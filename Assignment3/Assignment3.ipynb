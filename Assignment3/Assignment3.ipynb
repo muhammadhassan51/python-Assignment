{
 "cells": [
  {
   "cell_type": "code",
   "execution_count": 1,
   "id": "cf91107e",
   "metadata": {},
   "outputs": [
    {
     "name": "stdout",
     "output_type": "stream",
     "text": [
      "Number of vowels: 0\n"
     ]
    }
   ],
   "source": [
    "# Program to count vowels in a string\n",
    "string = input(\"Enter a string: \")\n",
    "vowels = \"AEIOUaeiou\"\n",
    "count = 0\n",
    "\n",
    "for ch in string:\n",
    "    if ch in vowels:\n",
    "        count += 1\n",
    "\n",
    "print(\"Number of vowels:\", count)\n"
   ]
  },
  {
   "cell_type": "code",
   "execution_count": 2,
   "id": "bcfe1743",
   "metadata": {},
   "outputs": [
    {
     "name": "stdout",
     "output_type": "stream",
     "text": [
      "Uppercase letters: 0\n",
      "Lowercase letters: 0\n",
      "Digits: 0\n",
      "Whitespaces: 0\n"
     ]
    }
   ],
   "source": [
    "# Program to count uppercase, lowercase, digits, and spaces\n",
    "string = input(\"Enter a string: \")\n",
    "\n",
    "upper = lower = digit = space = 0\n",
    "\n",
    "for ch in string:\n",
    "    if ch.isupper():\n",
    "        upper += 1\n",
    "    elif ch.islower():\n",
    "        lower += 1\n",
    "    elif ch.isdigit():\n",
    "        digit += 1\n",
    "    elif ch.isspace():\n",
    "        space += 1\n",
    "\n",
    "print(\"Uppercase letters:\", upper)\n",
    "print(\"Lowercase letters:\", lower)\n",
    "print(\"Digits:\", digit)\n",
    "print(\"Whitespaces:\", space)\n"
   ]
  },
  {
   "cell_type": "code",
   "execution_count": 3,
   "id": "b798e0be",
   "metadata": {},
   "outputs": [
    {
     "name": "stdout",
     "output_type": "stream",
     "text": [
      "New string: \n"
     ]
    }
   ],
   "source": [
    "# Program to exchange first and last characters\n",
    "string = input(\"Enter a string: \")\n",
    "\n",
    "if len(string) > 1:\n",
    "    new_string = string[-1] + string[1:-1] + string[0]\n",
    "else:\n",
    "    new_string = string  # for single character\n",
    "\n",
    "print(\"New string:\", new_string)\n"
   ]
  },
  {
   "cell_type": "code",
   "execution_count": 4,
   "id": "e451b8a8",
   "metadata": {},
   "outputs": [
    {
     "name": "stdout",
     "output_type": "stream",
     "text": [
      "Reversed string: \n"
     ]
    }
   ],
   "source": [
    "# Program to reverse a string\n",
    "string = input(\"Enter a string: \")\n",
    "new_string = string[::-1]\n",
    "print(\"Reversed string:\", new_string)\n"
   ]
  },
  {
   "cell_type": "code",
   "execution_count": 5,
   "id": "8d6a9052",
   "metadata": {},
   "outputs": [
    {
     "name": "stdout",
     "output_type": "stream",
     "text": [
      "Shifted string: \n"
     ]
    }
   ],
   "source": [
    "# Program to left shift string\n",
    "string = input(\"Enter a string: \")\n",
    "\n",
    "if len(string) > 0:\n",
    "    new_string = string[1:] + string[0]\n",
    "else:\n",
    "    new_string = string\n",
    "\n",
    "print(\"Shifted string:\", new_string)\n"
   ]
  },
  {
   "cell_type": "code",
   "execution_count": 6,
   "id": "8c78254c",
   "metadata": {},
   "outputs": [
    {
     "name": "stdout",
     "output_type": "stream",
     "text": [
      "Shifted string: \n"
     ]
    }
   ],
   "source": [
    "# Program to left shift string\n",
    "string = input(\"Enter a string: \")\n",
    "\n",
    "if len(string) > 0:\n",
    "    new_string = string[1:] + string[0]\n",
    "else:\n",
    "    new_string = string\n",
    "\n",
    "print(\"Shifted string:\", new_string)\n"
   ]
  },
  {
   "cell_type": "code",
   "execution_count": 7,
   "id": "a5c5c346",
   "metadata": {},
   "outputs": [
    {
     "name": "stdout",
     "output_type": "stream",
     "text": [
      "The string is a Palindrome\n"
     ]
    }
   ],
   "source": [
    "# Program to check palindrome\n",
    "string = input(\"Enter a string: \")\n",
    "\n",
    "is_palindrome = True\n",
    "length = len(string)\n",
    "\n",
    "for i in range(length // 2):\n",
    "    if string[i] != string[length - i - 1]:\n",
    "        is_palindrome = False\n",
    "        break\n",
    "\n",
    "if is_palindrome:\n",
    "    print(\"The string is a Palindrome\")\n",
    "else:\n",
    "    print(\"The string is NOT a Palindrome\")\n"
   ]
  },
  {
   "cell_type": "code",
   "execution_count": 8,
   "id": "508b0fca",
   "metadata": {},
   "outputs": [
    {
     "name": "stdout",
     "output_type": "stream",
     "text": [
      "SHIFT\n",
      "HIFTS\n",
      "IFTSH\n",
      "FTSHI\n",
      "TSHIF\n",
      "SHIFT\n"
     ]
    }
   ],
   "source": [
    "# Program to display rotated string\n",
    "word = \"SHIFT\"\n",
    "\n",
    "for i in range(len(word) + 1):\n",
    "    print(word)\n",
    "    # left shift string\n",
    "    word = word[1:] + word[0]\n"
   ]
  },
  {
   "cell_type": "code",
   "execution_count": 9,
   "id": "c7bb9b0f",
   "metadata": {},
   "outputs": [
    {
     "name": "stdout",
     "output_type": "stream",
     "text": [
      "Password must be at least 8 characters long.\n",
      "Password must contain at least one uppercase letter.\n",
      "Password must contain at least one lowercase letter.\n",
      "Password must contain at least one digit.\n",
      "Password is invalid \n"
     ]
    }
   ],
   "source": [
    "# Program for password validation\n",
    "password = input(\"Enter your password: \")\n",
    "\n",
    "valid = True\n",
    "\n",
    "if len(password) < 8:\n",
    "    print(\"Password must be at least 8 characters long.\")\n",
    "    valid = False\n",
    "\n",
    "if not any(ch.isupper() for ch in password):\n",
    "    print(\"Password must contain at least one uppercase letter.\")\n",
    "    valid = False\n",
    "\n",
    "if not any(ch.islower() for ch in password):\n",
    "    print(\"Password must contain at least one lowercase letter.\")\n",
    "    valid = False\n",
    "\n",
    "if not any(ch.isdigit() for ch in password):\n",
    "    print(\"Password must contain at least one digit.\")\n",
    "    valid = False\n",
    "\n",
    "if valid:\n",
    "    print(\"Password is valid \")\n",
    "else:\n",
    "    print(\"Password is invalid \")\n"
   ]
  }
 ],
 "metadata": {
  "kernelspec": {
   "display_name": "base",
   "language": "python",
   "name": "python3"
  },
  "language_info": {
   "codemirror_mode": {
    "name": "ipython",
    "version": 3
   },
   "file_extension": ".py",
   "mimetype": "text/x-python",
   "name": "python",
   "nbconvert_exporter": "python",
   "pygments_lexer": "ipython3",
   "version": "3.13.5"
  }
 },
 "nbformat": 4,
 "nbformat_minor": 5
}
