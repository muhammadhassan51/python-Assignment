{
 "cells": [
  {
   "cell_type": "code",
   "execution_count": 1,
   "id": "c003ea35",
   "metadata": {},
   "outputs": [
    {
     "name": "stdout",
     "output_type": "stream",
     "text": [
      "Alternate elements are:\n"
     ]
    }
   ],
   "source": [
    "# Program to print alternate elements of list\n",
    "lst = input(\"Enter elements of list separated by space: \").split()\n",
    "\n",
    "print(\"Alternate elements are:\")\n",
    "for i in range(0, len(lst), 2):\n",
    "    print(lst[i])\n",
    "\n"
   ]
  },
  {
   "cell_type": "code",
   "execution_count": 2,
   "id": "27969c76",
   "metadata": {},
   "outputs": [
    {
     "name": "stdout",
     "output_type": "stream",
     "text": [
      "Reversed List: []\n"
     ]
    }
   ],
   "source": [
    "# Program to reverse list without reverse()\n",
    "lst = input(\"Enter elements of list separated by space: \").split()\n",
    "\n",
    "rev_list = []\n",
    "for i in range(len(lst)-1, -1, -1):\n",
    "    rev_list.append(lst[i])\n",
    "\n",
    "print(\"Reversed List:\", rev_list)\n",
    "\n"
   ]
  },
  {
   "cell_type": "code",
   "execution_count": 10,
   "id": "536308d4",
   "metadata": {},
   "outputs": [
    {
     "name": "stdout",
     "output_type": "stream",
     "text": [
      "Largest number is: 2\n"
     ]
    }
   ],
   "source": [
    "# Program to find largest number without max()\n",
    "lst = list(map(int, input(\"Enter numbers separated by space: \").split()))\n",
    "\n",
    "largest = lst[0]   # start with first number\n",
    "for num in lst:\n",
    "    if num > largest:\n",
    "        largest = num\n",
    "\n",
    "print(\"Largest number is:\", largest)\n",
    "\n"
   ]
  },
  {
   "cell_type": "code",
   "execution_count": 6,
   "id": "ec93d36a",
   "metadata": {},
   "outputs": [
    {
     "name": "stdout",
     "output_type": "stream",
     "text": [
      "Rotated List: ['3']\n"
     ]
    }
   ],
   "source": [
    "# Program to rotate list\n",
    "lst = input(\"Enter elements of list separated by space: \").split()\n",
    "\n",
    "rotated = [lst[-1]] + lst[:-1]\n",
    "print(\"Rotated List:\", rotated)\n"
   ]
  },
  {
   "cell_type": "code",
   "execution_count": 11,
   "id": "0501de9c",
   "metadata": {},
   "outputs": [
    {
     "name": "stdout",
     "output_type": "stream",
     "text": [
      "String after deletion: 7\n"
     ]
    }
   ],
   "source": [
    "# Program to delete a given word from a string\n",
    "string = input(\"Enter a string: \")\n",
    "word = input(\"Enter word to delete: \")\n",
    "\n",
    "new_string = string.replace(word, \"\")\n",
    "print(\"String after deletion:\", new_string.strip())\n",
    "\n"
   ]
  },
  {
   "cell_type": "code",
   "execution_count": 12,
   "id": "f58788e2",
   "metadata": {},
   "outputs": [
    {
     "name": "stdout",
     "output_type": "stream",
     "text": [
      "November 21, 2006\n"
     ]
    }
   ],
   "source": [
    "# Program to convert date format\n",
    "months = [\"January\",\"February\",\"March\",\"April\",\"May\",\"June\",\n",
    "          \"July\",\"August\",\"September\",\"October\",\"November\",\"December\"]\n",
    "\n",
    "date = input(\"Enter date (mm/dd/yyyy): \")\n",
    "\n",
    "mm, dd, yyyy = date.split(\"/\")\n",
    "mm = int(mm)\n",
    "\n",
    "print(f\"{months[mm-1]} {int(dd)}, {yyyy}\")\n"
   ]
  },
  {
   "cell_type": "code",
   "execution_count": 14,
   "id": "2ffec2f6",
   "metadata": {},
   "outputs": [
    {
     "name": "stdout",
     "output_type": "stream",
     "text": [
      "Converted string: Ali Haider\n"
     ]
    }
   ],
   "source": [
    "# Program to capitalize each word\n",
    "def capitalize_words(sentence):\n",
    "    result = \"\"\n",
    "    make_cap = True\n",
    "    for ch in sentence:\n",
    "        if make_cap and ch.isalpha():\n",
    "            result += ch.upper()\n",
    "            make_cap = False\n",
    "        else:\n",
    "            result += ch.lower()\n",
    "        if ch == \" \":\n",
    "            make_cap = True\n",
    "    return result\n",
    "\n",
    "sentence = input(\"Enter a sentence: \")\n",
    "print(\"Converted string:\", capitalize_words(sentence))\n"
   ]
  },
  {
   "cell_type": "code",
   "execution_count": 3,
   "id": "9a5f00b6",
   "metadata": {},
   "outputs": [
    {
     "name": "stdout",
     "output_type": "stream",
     "text": [
      "Enter elements of first matrix:\n",
      "Enter elements of second matrix:\n"
     ]
    },
    {
     "ename": "IndexError",
     "evalue": "list index out of range",
     "output_type": "error",
     "traceback": [
      "\u001b[31m---------------------------------------------------------------------------\u001b[39m",
      "\u001b[31mIndexError\u001b[39m                                Traceback (most recent call last)",
      "\u001b[36mCell\u001b[39m\u001b[36m \u001b[39m\u001b[32mIn[3]\u001b[39m\u001b[32m, line 22\u001b[39m\n\u001b[32m     20\u001b[39m     row = []\n\u001b[32m     21\u001b[39m     \u001b[38;5;28;01mfor\u001b[39;00m j \u001b[38;5;129;01min\u001b[39;00m \u001b[38;5;28mrange\u001b[39m(m):\n\u001b[32m---> \u001b[39m\u001b[32m22\u001b[39m         row.append(\u001b[43mA\u001b[49m\u001b[43m[\u001b[49m\u001b[43mi\u001b[49m\u001b[43m]\u001b[49m\u001b[43m[\u001b[49m\u001b[43mj\u001b[49m\u001b[43m]\u001b[49m + B[i][j])\n\u001b[32m     23\u001b[39m     C.append(row)\n\u001b[32m     25\u001b[39m \u001b[38;5;28mprint\u001b[39m(\u001b[33m\"\u001b[39m\u001b[33mResultant Matrix after Addition:\u001b[39m\u001b[33m\"\u001b[39m)\n",
      "\u001b[31mIndexError\u001b[39m: list index out of range"
     ]
    }
   ],
   "source": [
    "# Program to add two matrices\n",
    "n = int(input(\"Enter number of rows: \"))\n",
    "m = int(input(\"Enter number of columns: \"))\n",
    "\n",
    "print(\"Enter elements of first matrix:\")\n",
    "A = []\n",
    "for i in range(n):\n",
    "    row = list(map(int, input().split()))\n",
    "    A.append(row)\n",
    "\n",
    "print(\"Enter elements of second matrix:\")\n",
    "B = []\n",
    "for i in range(n):\n",
    "    row = list(map(int, input().split()))\n",
    "    B.append(row)\n",
    "\n",
    "# Add matrices\n",
    "C = []\n",
    "for i in range(n):\n",
    "    row = []\n",
    "    for j in range(m):\n",
    "        row.append(A[i][j] + B[i][j])\n",
    "    C.append(row)\n",
    "\n",
    "print(\"Resultant Matrix after Addition:\")\n",
    "for row in C:\n",
    "    print(row)"
   ]
  },
  {
   "cell_type": "code",
   "execution_count": null,
   "id": "8824daad",
   "metadata": {},
   "outputs": [],
   "source": [
    "# Program to multiply two matrices\n",
    "n = int(input(\"Enter rows of first matrix: \"))\n",
    "m = int(input(\"Enter columns of first matrix: \"))\n",
    "p = int(input(\"Enter columns of second matrix: \"))\n",
    "\n",
    "# First matrix size = n x m\n",
    "print(\"Enter elements of first matrix:\")\n",
    "A = []\n",
    "for i in range(n):\n",
    "    row = list(map(int, input().split()))\n",
    "    if len(row) != m:\n",
    "        print(\"Error: Please enter exactly\", m, \"values\")\n",
    "        exit()\n",
    "    A.append(row)\n",
    "\n",
    "# Second matrix size = m x p\n",
    "print(\"Enter elements of second matrix:\")\n",
    "B = []\n",
    "for i in range(m):\n",
    "    row = list(map(int, input().split()))\n",
    "    if len(row) != p:\n",
    "        print(\"Error: Please enter exactly\", p, \"values\")\n",
    "        exit()\n",
    "    B.append(row)\n",
    "\n",
    "# Multiply matrices\n",
    "C = []\n",
    "for i in range(n):\n",
    "    row = []\n",
    "    for j in range(p):\n",
    "        val = 0\n",
    "        for k in range(m):\n",
    "            val += A[i][k] * B[k][j]\n",
    "        row.append(val)\n",
    "    C.append(row)\n",
    "\n",
    "# Display Result\n",
    "print(\"Resultant Matrix after Multiplication:\")\n",
    "for row in C:\n",
    "    print(row)\n"
   ]
  },
  {
   "cell_type": "code",
   "execution_count": null,
   "id": "2a46c370",
   "metadata": {},
   "outputs": [],
   "source": [
    "\n"
   ]
  }
 ],
 "metadata": {
  "kernelspec": {
   "display_name": "base",
   "language": "python",
   "name": "python3"
  },
  "language_info": {
   "codemirror_mode": {
    "name": "ipython",
    "version": 3
   },
   "file_extension": ".py",
   "mimetype": "text/x-python",
   "name": "python",
   "nbconvert_exporter": "python",
   "pygments_lexer": "ipython3",
   "version": "3.13.5"
  }
 },
 "nbformat": 4,
 "nbformat_minor": 5
}
