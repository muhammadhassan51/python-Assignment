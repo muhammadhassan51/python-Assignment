{
 "cells": [
  {
   "cell_type": "markdown",
   "id": "3dbf8884",
   "metadata": {},
   "source": [
    "\n",
    "# Question:1"
   ]
  },
  {
   "cell_type": "markdown",
   "id": "ea98f4fa",
   "metadata": {},
   "source": [
    "#### Question:1 print your name and your father name and date of birth using suitable escape sequence charactor\n"
   ]
  },
  {
   "cell_type": "code",
   "execution_count": 1,
   "id": "b24ded61",
   "metadata": {},
   "outputs": [
    {
     "name": "stdout",
     "output_type": "stream",
     "text": [
      "Name:\tAli Haider\n",
      "Father's Name:\t Abu bakar\n",
      "Date of Birth:\t21-11-2006\n"
     ]
    }
   ],
   "source": [
    "print(\"Name:\\tAli Haider\\nFather's Name:\\t Abu bakar\\nDate of Birth:\\t21-11-2006\")\n"
   ]
  },
  {
   "cell_type": "markdown",
   "id": "f0138a25",
   "metadata": {},
   "source": [
    "##### Question:2 Write your small bio using variables and print it using print function"
   ]
  },
  {
   "cell_type": "code",
   "execution_count": 4,
   "id": "abcc5ffa",
   "metadata": {},
   "outputs": [
    {
     "name": "stdout",
     "output_type": "stream",
     "text": [
      "my name is Ali Haider\n",
      " my father name is Abu bakar\n",
      " my date of birth is 21-11-2006\n",
      " i am living inKarachi\n",
      " my fav hoppy is Coding and learning\n"
     ]
    }
   ],
   "source": [
    "# Variables\n",
    "name = \"Ali Haider\"\n",
    "father_name = \"Abu bakar\"\n",
    "dob = \"21-11-2006\"\n",
    "city = \"Karachi\"\n",
    "hobby = \"Coding and learning\"\n",
    "\n",
    "# Print Bio\n",
    "print (f\"my name is {name}\\n my father name is {father_name}\\n my date of birth is {dob}\\n i am living in{city}\\n my fav hoppy is {hobby}\")"
   ]
  },
  {
   "cell_type": "markdown",
   "id": "0fe9676a",
   "metadata": {},
   "source": [
    "##### Question:3 Write a program in which use all the operators we can use in Python"
   ]
  },
  {
   "cell_type": "code",
   "execution_count": 19,
   "id": "58c736cb",
   "metadata": {},
   "outputs": [
    {
     "name": "stdout",
     "output_type": "stream",
     "text": [
      "------ Arithmetic Operators ------\n",
      "a + b = 13\n",
      "a - b = 7\n",
      "a / b = 3.3333333333333335\n",
      "a % b = 1\n",
      "a // b = 3\n",
      "a ** b = 1000\n",
      "\n",
      "------ Assignment Operators ------\n",
      "x after += 2: 7\n",
      "x after -= 2: 5\n",
      "x after *= 2: 10\n",
      "x after /= 2: 5.0\n",
      "x after %= 2: 1.0\n",
      "x after //= 2: 2\n",
      "x after **= 2: 4\n",
      "\n",
      "------ Comparison Operators ------\n",
      "a == c: True\n",
      "a != b: True\n",
      "a > b: True\n",
      "a < b: False\n",
      "a >= c: True\n",
      "a <= b: False\n",
      "\n",
      "------ Logical Operators ------\n",
      "a > 5 and b > 5: False\n",
      "a > 5 or b > 5: True\n",
      "not(a > 5): False\n",
      "\n",
      "------ Identity Operators ------\n",
      "a is c: True\n",
      "a is not b: True\n",
      "\n",
      "------ Membership Operators ------\n",
      "a in list1: True\n",
      "b not in list1: False\n",
      "\n",
      "------ Bitwise Operators ------\n",
      "a & b = 2\n",
      "a | b = 11\n",
      "a ^ b = 9\n",
      "~a = -11\n",
      "a << 1 = 20\n",
      "a >> 1 = 5\n"
     ]
    }
   ],
   "source": [
    "# Variables\n",
    "a = 10\n",
    "b = 3\n",
    "c = 10\n",
    "\n",
    "print(\"------ Arithmetic Operators ------\")\n",
    "print(\"a + b =\", a + b)      \n",
    "print(\"a - b =\", a - b)      \n",
    "print(\"a / b =\", a / b)      \n",
    "print(\"a % b =\", a % b)       \n",
    "print(\"a // b =\", a // b)    \n",
    "print(\"a ** b =\", a ** b)    \n",
    "\n",
    "print(\"\\n------ Assignment Operators ------\")\n",
    "x = 5\n",
    "x += 2\n",
    "print(\"x after += 2:\", x)\n",
    "x -= 2\n",
    "print(\"x after -= 2:\", x)\n",
    "x *= 2\n",
    "print(\"x after *= 2:\", x)\n",
    "x /= 2\n",
    "print(\"x after /= 2:\", x)\n",
    "x %= 2\n",
    "print(\"x after %= 2:\", x)\n",
    "x = 5\n",
    "x //= 2\n",
    "print(\"x after //= 2:\", x)\n",
    "x **= 2\n",
    "print(\"x after **= 2:\", x)\n",
    "\n",
    "print(\"\\n------ Comparison Operators ------\")\n",
    "print(\"a == c:\", a == c)\n",
    "print(\"a != b:\", a != b)\n",
    "print(\"a > b:\", a > b)\n",
    "print(\"a < b:\", a < b)\n",
    "print(\"a >= c:\", a >= c)\n",
    "print(\"a <= b:\", a <= b)\n",
    "\n",
    "print(\"\\n------ Logical Operators ------\")\n",
    "print(\"a > 5 and b > 5:\", a > 5 and b > 5)\n",
    "print(\"a > 5 or b > 5:\", a > 5 or b > 5)\n",
    "print(\"not(a > 5):\", not(a > 5))\n",
    "\n",
    "print(\"\\n------ Identity Operators ------\")\n",
    "print(\"a is c:\", a is c)\n",
    "print(\"a is not b:\", a is not b)\n",
    "\n",
    "print(\"\\n------ Membership Operators ------\")\n",
    "list1 = [1, 2, 3, 10]\n",
    "print(\"a in list1:\", a in list1)\n",
    "print(\"b not in list1:\", b not in list1)\n",
    "\n",
    "print(\"\\n------ Bitwise Operators ------\")\n",
    "print(\"a & b =\", a & b)    \n",
    "print(\"a | b =\", a | b)    \n",
    "print(\"a ^ b =\", a ^ b)    \n",
    "print(\"~a =\", ~a)          \n",
    "print(\"a << 1 =\", a << 1)  \n",
    "print(\"a >> 1 =\", a >> 1)  \n"
   ]
  },
  {
   "cell_type": "markdown",
   "id": "cda44d6d",
   "metadata": {},
   "source": [
    "### Question:4 Completes the following steps of small task:\n",
    "##### 1.Mention Marks of English , Islamiat and Maths out of 100 in 3 different variables\n",
    "##### 2.Mention Variable of Total Marks and assign 300 to it\n",
    "##### 3.Calculate Percentage\n"
   ]
  },
  {
   "cell_type": "code",
   "execution_count": 8,
   "id": "97dd378d",
   "metadata": {},
   "outputs": [
    {
     "name": "stdout",
     "output_type": "stream",
     "text": [
      "English: 85\n",
      " Islamiat: 90\n",
      " Maths: 95\n",
      " Obtained: 270\n",
      " Total: 300\n",
      " Percentage: 90.0%\n"
     ]
    }
   ],
   "source": [
    "# Step 1: Marks in 3 subjects\n",
    "english = 85\n",
    "islamiat = 90\n",
    "maths = 95\n",
    "\n",
    "# Step 2: Total Marks\n",
    "total_marks = 300\n",
    "\n",
    "# Step 3: Calculate Obtained Marks\n",
    "obtained_marks = english + islamiat + maths\n",
    "\n",
    "# Step 4: Calculate Percentage\n",
    "percentage = (obtained_marks / total_marks) * 100\n",
    "\n",
    "# Step 5: Print Result\n",
    "print(f\"English: {english}\\n Islamiat: {islamiat}\\n Maths: {maths}\\n Obtained: {obtained_marks}\\n Total: {total_marks}\\n Percentage: {percentage}%\")\n"
   ]
  },
  {
   "cell_type": "markdown",
   "id": "deb583d8",
   "metadata": {},
   "source": [
    "## Part -2 Python Basics (Conditional Statements)"
   ]
  },
  {
   "cell_type": "markdown",
   "id": "cb3d54ed",
   "metadata": {},
   "source": [
    "##### Question:1 A company decided to give bonus of 5% to employee if his/her year of service is more than 5 years. Ask user for their salary and year of service and print the net bonus amount."
   ]
  },
  {
   "cell_type": "code",
   "execution_count": 2,
   "id": "c2627296",
   "metadata": {},
   "outputs": [
    {
     "name": "stdout",
     "output_type": "stream",
     "text": [
      "Sorry, you are not eligible for bonus.\n"
     ]
    }
   ],
   "source": [
    "# Input from user\n",
    "salary = int(input(\"Enter your salary: \"))\n",
    "years = int(input(\"Enter your years of service: \"))\n",
    "\n",
    "# Check condition\n",
    "if years > 5:\n",
    "    bonus = salary * 1\n",
    "    print(\"Your net bonus amount is:\", bonus)\n",
    "else:\n",
    "    print(\"Sorry, you are not eligible for bonus.\")\n"
   ]
  },
  {
   "cell_type": "markdown",
   "id": "5ef2c45b",
   "metadata": {},
   "source": [
    "##### Question:2 Write a program to check whether a person is eligible for voting or not. (accept age from user) if age is greater than 17 eligible otherwise not eligible"
   ]
  },
  {
   "cell_type": "code",
   "execution_count": 4,
   "id": "6b53591c",
   "metadata": {},
   "outputs": [
    {
     "name": "stdout",
     "output_type": "stream",
     "text": [
      "You are eligible for voting.\n"
     ]
    }
   ],
   "source": [
    "# Input age from user\n",
    "age = int(input(\"Enter your age: \"))\n",
    "\n",
    "# Check eligibility\n",
    "if age > 17:\n",
    "    print(\"You are eligible for voting.\")\n",
    "else:\n",
    "    print(\"You are not eligible for voting.\")"
   ]
  },
  {
   "cell_type": "markdown",
   "id": "2210ea84",
   "metadata": {},
   "source": [
    "\n",
    "##### Question:3 Write a program to check whether a number entered by user is even or odd.\n"
   ]
  },
  {
   "cell_type": "code",
   "execution_count": 3,
   "id": "06c44230",
   "metadata": {},
   "outputs": [
    {
     "name": "stdout",
     "output_type": "stream",
     "text": [
      "6 is Even\n"
     ]
    }
   ],
   "source": [
    "# Program to check if a number is even or odd\n",
    "\n",
    "# taking input from user\n",
    "num = int(input(\"Enter a number: \"))\n",
    "\n",
    "# checking condition\n",
    "if num % 2 == 0:\n",
    "    print(f\"{num} is Even\")\n",
    "else:\n",
    "    print(f\"{num} is Odd\")\n"
   ]
  },
  {
   "cell_type": "markdown",
   "id": "fb808ec1",
   "metadata": {},
   "source": [
    "##### Question:4 Write a program to check whether a number is divisible by 7 or not. Show Answer"
   ]
  },
  {
   "cell_type": "code",
   "execution_count": 1,
   "id": "fef6f48b",
   "metadata": {},
   "outputs": [
    {
     "name": "stdout",
     "output_type": "stream",
     "text": [
      "5 is not divisible by 7\n"
     ]
    }
   ],
   "source": [
    "# Program to check divisibility by 7\n",
    "num = int(input(\"Enter a number: \"))\n",
    "\n",
    "if num % 7 == 0:\n",
    "    print(f\"{num} is divisible by 7\")\n",
    "else:\n",
    "    print(f\"{num} is not divisible by 7\")\n",
    "\n"
   ]
  },
  {
   "cell_type": "markdown",
   "id": "ca4bbf11",
   "metadata": {},
   "source": [
    "#### Question:5 Write a program to display \"Hello\" if a number entered by user is a multiple of five , otherwise print \"Bye\"."
   ]
  },
  {
   "cell_type": "code",
   "execution_count": 8,
   "id": "4f76c945",
   "metadata": {},
   "outputs": [
    {
     "name": "stdout",
     "output_type": "stream",
     "text": [
      "Bye\n"
     ]
    }
   ],
   "source": [
    "# Program for multiple of 5\n",
    "num = int(input(\"Enter a number: \"))\n",
    "\n",
    "if num % 5 == 0:\n",
    "    print(\"Hello\")\n",
    "else:\n",
    "    print(\"Bye\")\n"
   ]
  },
  {
   "cell_type": "markdown",
   "id": "ae82dbd7",
   "metadata": {},
   "source": [
    "#### Question: 6 Take values of length and breadth of a rectangle from user and print if it is square or rectangle.\n"
   ]
  },
  {
   "cell_type": "code",
   "execution_count": 3,
   "id": "f3dbd7a8",
   "metadata": {},
   "outputs": [
    {
     "name": "stdout",
     "output_type": "stream",
     "text": [
      "It is a Rectangle\n"
     ]
    }
   ],
   "source": [
    "# Program to check square or rectangle\n",
    "length = int(input(\"Enter length: \"))\n",
    "breadth = int(input(\"Enter breadth: \"))\n",
    "\n",
    "if length == breadth:\n",
    "    print(\"It is a Square\")\n",
    "else:\n",
    "    print(\"It is a Rectangle\")\n"
   ]
  },
  {
   "cell_type": "markdown",
   "id": "5f2c6f0a",
   "metadata": {},
   "source": [
    "#### Question:7 Take two int values from user and print greatest among them."
   ]
  },
  {
   "cell_type": "code",
   "execution_count": 4,
   "id": "84edfd1f",
   "metadata": {},
   "outputs": [
    {
     "name": "stdout",
     "output_type": "stream",
     "text": [
      "Greatest number is: 5\n"
     ]
    }
   ],
   "source": [
    "# Program to find greatest number\n",
    "a = int(input(\"Enter first number: \"))\n",
    "b = int(input(\"Enter second number: \"))\n",
    "\n",
    "if a > b:\n",
    "    print(\"Greatest number is:\", a)\n",
    "else:\n",
    "    print(\"Greatest number is:\", b)\n",
    "\n"
   ]
  },
  {
   "cell_type": "markdown",
   "id": "c8e9b2de",
   "metadata": {},
   "source": [
    "##### Question:8 A shop will give discount of 10% if the cost of purchased quantity is more than 1000. Ask user for quantity Suppose, one unit will cost 100. Judge and print total cost for user."
   ]
  },
  {
   "cell_type": "code",
   "execution_count": 5,
   "id": "a51cccfa",
   "metadata": {},
   "outputs": [
    {
     "name": "stdout",
     "output_type": "stream",
     "text": [
      "Total cost: 500\n"
     ]
    }
   ],
   "source": [
    "# Program for discount\n",
    "quantity = int(input(\"Enter quantity: \"))\n",
    "cost = quantity * 100\n",
    "\n",
    "if cost > 1000:\n",
    "    discount = cost * 0.10\n",
    "    total = cost - discount\n",
    "else:\n",
    "    total = cost\n",
    "\n",
    "print(\"Total cost:\", total)\n"
   ]
  },
  {
   "cell_type": "markdown",
   "id": "023d40d3",
   "metadata": {},
   "source": [
    " ### Question: 9 chool has following rules for grading system:\n",
    "a. Below 25 - F\n",
    "\n",
    "b. 25 to 45 - E\n",
    "\n",
    "c. 45 to 50 - D\n",
    "\n",
    "d. 50 to 60 - C\n",
    "\n",
    "e. 60 to 80 - B\n",
    "\n",
    "f. Above 80 - A\n",
    "\n",
    "Ask user to enter marks and print the corresponding grade."
   ]
  },
  {
   "cell_type": "code",
   "execution_count": 9,
   "id": "397c12c1",
   "metadata": {},
   "outputs": [
    {
     "name": "stdout",
     "output_type": "stream",
     "text": [
      "Your Grade is: A\n"
     ]
    }
   ],
   "source": [
    "# Program for grading system\n",
    "marks = int(input(\"Enter your marks: \"))\n",
    "\n",
    "if marks < 25:\n",
    "    grade = \"F\"\n",
    "elif marks <= 45:\n",
    "    grade = \"E\"\n",
    "elif marks <= 50:\n",
    "    grade = \"D\"\n",
    "elif marks <= 60:\n",
    "    grade = \"C\"\n",
    "elif marks <= 80:\n",
    "    grade = \"B\"\n",
    "else:\n",
    "    grade = \"A\"\n",
    "\n",
    "print(\"Your Grade is:\", grade)\n"
   ]
  },
  {
   "cell_type": "markdown",
   "id": "d4891969",
   "metadata": {},
   "source": [
    "##### Question:14 A student will not be allowed to sit in exam if his/her attendence is less than 75%.\n",
    "\n",
    "Take following input from user\n",
    "\n",
    "Number of classes held\n",
    "\n",
    "Number of classes attended.\n",
    "\n",
    "And print\n",
    "\n",
    "percentage of class attended\n",
    "\n",
    "Is student is allowed to sit in exam or not."
   ]
  },
  {
   "cell_type": "code",
   "execution_count": 10,
   "id": "6cf0b9ef",
   "metadata": {},
   "outputs": [
    {
     "name": "stdout",
     "output_type": "stream",
     "text": [
      "Attendance Percentage: 10.666666666666668\n",
      "Not allowed to sit in exam\n"
     ]
    }
   ],
   "source": [
    "# Program with medical cause\n",
    "classes_held = int(input(\"Enter number of classes held: \"))\n",
    "classes_attended = int(input(\"Enter number of classes attended: \"))\n",
    "\n",
    "attendance = (classes_attended / classes_held) * 100\n",
    "print(\"Attendance Percentage:\", attendance)\n",
    "\n",
    "if attendance >= 75:\n",
    "    print(\"Allowed to sit in exam\")\n",
    "else:\n",
    "    medical = input(\"Do you have a medical cause? (Y/N): \")\n",
    "    if medical.upper() == \"Y\":\n",
    "        print(\"Allowed to sit in exam due to medical cause\")\n",
    "    else:\n",
    "        print(\"Not allowed to sit in exam\")\n"
   ]
  },
  {
   "cell_type": "markdown",
   "id": "1c37d37f",
   "metadata": {},
   "source": [
    "#### question:10 Write a program to check if a year is leap year or not.\n",
    "If a year is divisible by 4 then it is leap year but if the year is century year like 2000, 1900, 2100 then it must be divisible by 400.\n",
    "\n"
   ]
  },
  {
   "cell_type": "code",
   "execution_count": 11,
   "id": "92738e22",
   "metadata": {},
   "outputs": [
    {
     "name": "stdout",
     "output_type": "stream",
     "text": [
      "5 is Not a Leap Year\n"
     ]
    }
   ],
   "source": [
    "# Program to check leap year\n",
    "year = int(input(\"Enter a year: \"))\n",
    "\n",
    "if (year % 400 == 0) or (year % 4 == 0 and year % 100 != 0):\n",
    "    print(year, \"is a Leap Year\")\n",
    "else:\n",
    "    print(year, \"is Not a Leap Year\")\n"
   ]
  },
  {
   "cell_type": "markdown",
   "id": "863d0e8c",
   "metadata": {},
   "source": [
    "#### Question :11 Write a program to calculate the electricity bill (accept number of unit from user) according to the following criteria : Unit Price\n",
    "uptp 100 units no charge Next 200 units Rs 5 per unit After 200 units Rs 10 per unit (For example if input unit is 350 than total bill amount is Rs.3500 (For example if input unit is 97 than total bill amount is Rs.0 (For example if input unit is 150 than total bill amount is Rs.750"
   ]
  },
  {
   "cell_type": "code",
   "execution_count": null,
   "id": "26cb8eb2",
   "metadata": {},
   "outputs": [
    {
     "name": "stdout",
     "output_type": "stream",
     "text": [
      "ERROR\n",
      "Total Bill Amount: Rs. 0\n"
     ]
    }
   ],
   "source": [
    "# Program for place of service\n",
    "age = int(input(\"Enter age: \"))\n",
    "gender = input(\"Enter gender (M/F): \").upper()\n",
    "marital_status = input(\"Enter marital status (Y/N): \").upper()\n",
    "\n",
    "if gender == \"F\":\n",
    "    print(\"She will work only in urban areas\")\n",
    "elif gender == \"M\" and 20 <= age <= 40:\n",
    "    print(\"He may work anywhere\")\n",
    "elif gender == \"M\" and 40 < age <= 60:\n",
    "    print(\"He will work only in urban areas\")\n",
    "else:\n",
    "    print(\"ERROR\")\n",
    "\n",
    "\n",
    "units = int(input(\"Enter number of units: \"))\n",
    "\n",
    "if units <= 100:\n",
    "    bill = 0\n",
    "elif units <= 300:\n",
    "    bill = (units - 100) * 5\n",
    "else:\n",
    "    bill = (200 * 5) + (units - 300) * 10\n",
    "\n",
    "print(\"Total Bill Amount: Rs.\", bill)\n"
   ]
  },
  {
   "cell_type": "markdown",
   "id": "f21dabab",
   "metadata": {},
   "source": [
    "### Question:12 Take input of age of 3 people by user and determine oldest and youngest among them"
   ]
  },
  {
   "cell_type": "code",
   "execution_count": null,
   "id": "79becfc5",
   "metadata": {},
   "outputs": [
    {
     "name": "stdout",
     "output_type": "stream",
     "text": [
      "Oldest age is: 8\n",
      "Youngest age is: 6\n"
     ]
    }
   ],
   "source": [
    "# Program to find oldest and youngest \n",
    "a = int(input(\"Enter age of first person (A): \"))\n",
    "b = int(input(\"Enter age of second person (B): \"))\n",
    "c = int(input(\"Enter age of third person (C): \"))\n",
    "\n",
    "# Find oldest\n",
    "if a > b and a > c:\n",
    "    oldest = a\n",
    "elif b > a and b > c:\n",
    "    oldest = b\n",
    "else:\n",
    "    oldest = c\n",
    "\n",
    "if a < b and a < c:\n",
    "    youngest = a\n",
    "elif b < a and b < c:\n",
    "    youngest = b\n",
    "else:\n",
    "    youngest = c\n",
    "\n",
    "print(\"Oldest age is:\", oldest)\n",
    "print(\"Youngest age is:\", youngest)\n"
   ]
  }
 ],
 "metadata": {
  "kernelspec": {
   "display_name": "base",
   "language": "python",
   "name": "python3"
  },
  "language_info": {
   "codemirror_mode": {
    "name": "ipython",
    "version": 3
   },
   "file_extension": ".py",
   "mimetype": "text/x-python",
   "name": "python",
   "nbconvert_exporter": "python",
   "pygments_lexer": "ipython3",
   "version": "3.13.5"
  }
 },
 "nbformat": 4,
 "nbformat_minor": 5
}
